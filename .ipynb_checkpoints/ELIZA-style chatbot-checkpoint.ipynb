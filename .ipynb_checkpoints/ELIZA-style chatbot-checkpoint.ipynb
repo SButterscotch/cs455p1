{
 "cells": [
  {
   "cell_type": "code",
   "execution_count": 3,
   "id": "36f01ce2-78d8-4d19-b8fd-1619e2d08679",
   "metadata": {},
   "outputs": [],
   "source": [
    "import re\n",
    "import random"
   ]
  },
  {
   "cell_type": "code",
   "execution_count": 9,
   "id": "5faaa840-6af2-4f2d-84e8-a74611a31c9f",
   "metadata": {},
   "outputs": [],
   "source": [
    "# Define patterns and responses\n",
    "patterns = [\n",
    "    (r\"I feel (.*)\", [\"Why do you feel {}?\", \"Tell me more about your feelings.\", \"How long have you felt {}?\"]),\n",
    "    (r\"My (.*) doesn’t (.*)\", [\"What makes you believe your {} doesn’t {}?\", \"Why do you think your {} doesn’t {}?\", \"How does it make you feel when your {} doesn’t {}?\"]),\n",
    "    (r\"I don’t know (.*)\", [\"Why do you think you don’t know {}?\", \"What makes {} unclear to you?\", \"What would help you understand {} better?\"]),\n",
    "    (r\"I’m (.*)\", [\"Why are you {}?\", \"How does being {} make you feel?\", \"What do you think caused you to be {}?\"]),\n",
    "    (r\"I feel like (.*)\", [\"What makes you feel like {}?\", \"Why do you think you feel like {}?\", \"Can you give me an example of when you feel like {}?\"]),\n",
    "    (r\"I’m (.*) about (.*)\", [\"Why are you {} about {}?\", \"What makes you {} about {}?\", \"How do you usually handle feeling {} about {}?\"]),\n",
    "    (r\"I want to (.*)\", [\"What makes you want to {}?\", \"Why do you feel the need to {}?\", \"What would happen if you {}?\"]),\n",
    "    (r\"I’ve been feeling (.*)\", [\"Can you tell me more about your {}?\", \"Why do you think you’ve been feeling {}?\", \"How long have you been feeling {}?\"]),\n",
    "    (r\"I don’t (.*)\", [\"Why don’t you {}?\", \"What stops you from {}?\", \"What would it take for you to {}?\"]),\n",
    "    (r\"I feel (.*) by (.*)\", [\"Why do you feel {} by {}?\", \"What makes you feel {} by {}?\", \"How do you usually react when you feel {} by {}?\"]),\n",
    "    (r\"Why (.*)\", [\"Why do you think {}?\", \"What are your thoughts on {}?\", \"What would help you understand {} better?\"]),\n",
    "    (r\"How (.*)\", [\"How do you think {}?\", \"What steps have you taken to {}?\", \"What would make {} easier for you?\"]),\n",
    "    (r\"What (.*)\", [\"What do you think about {}?\", \"What would you like to achieve with {}?\", \"What does {} mean to you?\"]),\n",
    "    (r\"Can you (.*)\", [\"Why do you want me to {}?\", \"What would it mean if I {}?\", \"How would it help if I {}?\"]),\n",
    "    (r\"Tell me (.*)\", [\"What would you like me to know about {}?\", \"Why is {} important to you?\", \"What do you think about {}?\"]),\n",
    "    (r\"I need (.*)\", [\"Why do you need {}?\", \"What would happen if you got {}?\", \"What’s stopping you from getting {}?\"]),\n",
    "    (r\"I can’t (.*)\", [\"Why do you think you can’t {}?\", \"What would help you {}?\", \"What’s the biggest obstacle to {}?\"]),\n",
    "    (r\"I hate (.*)\", [\"Why do you hate {}?\", \"What about {} bothers you?\", \"What would make {} better for you?\"]),\n",
    "    (r\"I love (.*)\", [\"Why do you love {}?\", \"What do you enjoy most about {}?\", \"How does {} make you feel?\"]),\n",
    "    (r\"I’m scared of (.*)\", [\"Why are you scared of {}?\", \"What makes {} frightening for you?\", \"How do you usually cope with your fear of {}?\"]),\n",
    "]"
   ]
  },
  {
   "cell_type": "code",
   "execution_count": 10,
   "id": "be2f61eb-dd29-4ac9-8605-7daa388f6113",
   "metadata": {},
   "outputs": [],
   "source": [
    "# Dictionary to store follow-up questions\n",
    "follow_up_questions = {\n",
    "    \"I feel (.*)\": [\"How long have you felt {}?\", \"What do you think caused you to feel {}?\"],\n",
    "    \"I’m (.*) about (.*)\": [\"What specifically makes you {} about {}?\", \"How do you usually handle feeling {} about {}?\"],\n",
    "    \"I need (.*)\": [\"What would happen if you got {}?\", \"What’s stopping you from getting {}?\"],\n",
    "}\n",
    "\n",
    "# Function to generate follow-up questions\n",
    "def generate_follow_up(user_input):\n",
    "    for pattern, questions in follow_up_questions.items():\n",
    "        match = re.match(pattern, user_input, re.IGNORECASE)\n",
    "        if match:\n",
    "            return random.choice(questions).format(*match.groups())\n",
    "    return None"
   ]
  },
  {
   "cell_type": "code",
   "execution_count": 11,
   "id": "4d55f731-c3eb-40b3-9f07-064dc9073527",
   "metadata": {},
   "outputs": [],
   "source": [
    "# Function to match patterns and generate responses\n",
    "def match_pattern(user_input):\n",
    "    for pattern, responses in patterns:\n",
    "        match = re.match(pattern, user_input, re.IGNORECASE)\n",
    "        if match:\n",
    "            return responses, match.groups()\n",
    "    return None, None\n",
    "\n",
    "def generate_response(user_input):\n",
    "    responses, groups = match_pattern(user_input)\n",
    "    if responses:\n",
    "        return random.choice(responses).format(*groups)\n",
    "    return \"I'm not sure I understand. Can you elaborate?\""
   ]
  },
  {
   "cell_type": "code",
   "execution_count": 12,
   "id": "94bde93d-5b5c-4364-8bc8-faa19e086886",
   "metadata": {},
   "outputs": [],
   "source": [
    "# Store conversation context\n",
    "context = {}\n",
    "\n",
    "# Function to update context\n",
    "def update_context(user_input):\n",
    "    for pattern, _ in patterns:\n",
    "        match = re.match(pattern, user_input, re.IGNORECASE)\n",
    "        if match:\n",
    "            context.update({\"last_input\": user_input, \"last_pattern\": pattern})\n",
    "            break\n",
    "\n",
    "# Function to use context in responses\n",
    "def contextual_response(user_input):\n",
    "    if \"last_input\" in context:\n",
    "        last_input = context[\"last_input\"]\n",
    "        last_pattern = context[\"last_pattern\"]\n",
    "        if last_pattern == r\"I feel (.*)\":\n",
    "            return f\"You mentioned that you feel {last_input}. Can you tell me more about that?\"\n",
    "    return None"
   ]
  },
  {
   "cell_type": "code",
   "execution_count": 13,
   "id": "b6ce8c04-223a-40c4-8f26-6733f98dbf44",
   "metadata": {},
   "outputs": [],
   "source": [
    "def chat():\n",
    "    print(\"ELIZA: Hello! How can I help you today?\")\n",
    "    while True:\n",
    "        user_input = input(\"You: \")\n",
    "        if user_input.lower() in [\"quit\", \"exit\"]:\n",
    "            print(\"ELIZA: Goodbye!\")\n",
    "            break\n",
    "        \n",
    "        # Generate a response\n",
    "        response = generate_response(user_input)\n",
    "        \n",
    "        # Add follow-up questions\n",
    "        follow_up = generate_follow_up(user_input)\n",
    "        if follow_up:\n",
    "            response += \" \" + follow_up\n",
    "        \n",
    "        # Add contextual responses\n",
    "        contextual_resp = contextual_response(user_input)\n",
    "        if contextual_resp:\n",
    "            response += \" \" + contextual_resp\n",
    "        \n",
    "        # Update context\n",
    "        update_context(user_input)\n",
    "        \n",
    "        print(f\"ELIZA: {response}\")"
   ]
  },
  {
   "cell_type": "code",
   "execution_count": 14,
   "id": "9500d141-4ed4-42b2-9d3a-36fd04a1c8db",
   "metadata": {},
   "outputs": [
    {
     "name": "stdout",
     "output_type": "stream",
     "text": [
      "ELIZA: Hello! How can I help you today?\n"
     ]
    },
    {
     "name": "stdin",
     "output_type": "stream",
     "text": [
      "You:  i feel sad\n"
     ]
    },
    {
     "name": "stdout",
     "output_type": "stream",
     "text": [
      "ELIZA: How long have you felt sad? What do you think caused you to feel sad?\n"
     ]
    },
    {
     "name": "stdin",
     "output_type": "stream",
     "text": [
      "You:  i dont know\n"
     ]
    },
    {
     "name": "stdout",
     "output_type": "stream",
     "text": [
      "ELIZA: I'm not sure I understand. Can you elaborate? You mentioned that you feel i feel sad. Can you tell me more about that?\n"
     ]
    },
    {
     "name": "stdin",
     "output_type": "stream",
     "text": [
      "You:  i don't know\n"
     ]
    },
    {
     "name": "stdout",
     "output_type": "stream",
     "text": [
      "ELIZA: I'm not sure I understand. Can you elaborate? You mentioned that you feel i feel sad. Can you tell me more about that?\n"
     ]
    },
    {
     "name": "stdin",
     "output_type": "stream",
     "text": [
      "You:  i feel really sad\n"
     ]
    },
    {
     "name": "stdout",
     "output_type": "stream",
     "text": [
      "ELIZA: Why do you feel really sad? How long have you felt really sad? You mentioned that you feel i feel sad. Can you tell me more about that?\n"
     ]
    },
    {
     "name": "stdin",
     "output_type": "stream",
     "text": [
      "You:  i need my mom\n"
     ]
    },
    {
     "name": "stdout",
     "output_type": "stream",
     "text": [
      "ELIZA: What would happen if you got my mom? What would happen if you got my mom? You mentioned that you feel i feel really sad. Can you tell me more about that?\n"
     ]
    },
    {
     "name": "stdin",
     "output_type": "stream",
     "text": [
      "You:  exit\n"
     ]
    },
    {
     "name": "stdout",
     "output_type": "stream",
     "text": [
      "ELIZA: Goodbye!\n"
     ]
    }
   ],
   "source": [
    "# Run bot\n",
    "chat()"
   ]
  },
  {
   "cell_type": "code",
   "execution_count": 15,
   "id": "bc5fed66-a63c-40d0-a2fc-9b77ea506922",
   "metadata": {},
   "outputs": [],
   "source": [
    "# Test cases with modified inputs\n",
    "test_cases = [\n",
    "    (\"I feel sad.\", \"I feel really sad.\"),\n",
    "    (\"My friend doesn’t understand me.\", \"My friend doesn’t get me.\"),\n",
    "    (\"I don’t know what to do with my life.\", \"I’m unsure what to do with my life.\"),\n",
    "    (\"I’m having trouble at work.\", \"I’m struggling at work.\"),\n",
    "    (\"My partner doesn’t listen to me.\", \"My partner ignores me.\"),\n",
    "]"
   ]
  },
  {
   "cell_type": "code",
   "execution_count": 16,
   "id": "d9ee42a2-ada3-4e4a-a61b-df80d0aceeb4",
   "metadata": {},
   "outputs": [
    {
     "name": "stdout",
     "output_type": "stream",
     "text": [
      "Original: I feel sad.\n",
      "Modified: I feel really sad.\n",
      "Response: Why do you feel really sad.?\n",
      "\n",
      "Original: My friend doesn’t understand me.\n",
      "Modified: My friend doesn’t get me.\n",
      "Response: Why do you think your friend doesn’t get me.?\n",
      "\n",
      "Original: I don’t know what to do with my life.\n",
      "Modified: I’m unsure what to do with my life.\n",
      "Response: Why are you unsure what to do with my life.?\n",
      "\n",
      "Original: I’m having trouble at work.\n",
      "Modified: I’m struggling at work.\n",
      "Response: Why are you struggling at work.?\n",
      "\n",
      "Original: My partner doesn’t listen to me.\n",
      "Modified: My partner ignores me.\n",
      "Response: I'm not sure I understand. Can you elaborate?\n",
      "\n"
     ]
    }
   ],
   "source": [
    "# Function to test the chatbot\n",
    "def test_chatbot(test_cases):\n",
    "    for original, modified in test_cases:\n",
    "        print(f\"Original: {original}\")\n",
    "        print(f\"Modified: {modified}\")\n",
    "        response = generate_response(modified)\n",
    "        print(f\"Response: {response}\")\n",
    "        print()\n",
    "\n",
    "# Run the test\n",
    "test_chatbot(test_cases)"
   ]
  },
  {
   "cell_type": "code",
   "execution_count": null,
   "id": "19829192-3f50-4799-906f-2a0289a7a0dc",
   "metadata": {},
   "outputs": [],
   "source": []
  }
 ],
 "metadata": {
  "kernelspec": {
   "display_name": "Python 3 (ipykernel)",
   "language": "python",
   "name": "python3"
  },
  "language_info": {
   "codemirror_mode": {
    "name": "ipython",
    "version": 3
   },
   "file_extension": ".py",
   "mimetype": "text/x-python",
   "name": "python",
   "nbconvert_exporter": "python",
   "pygments_lexer": "ipython3",
   "version": "3.12.3"
  }
 },
 "nbformat": 4,
 "nbformat_minor": 5
}
